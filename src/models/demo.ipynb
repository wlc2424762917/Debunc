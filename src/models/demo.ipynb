{
 "cells": [
  {
   "cell_type": "code",
   "execution_count": null,
   "metadata": {},
   "outputs": [],
   "source": [
    "import torch\n",
    "from models.common import RangeWeight\n",
    "from models.modeling_mistral import MistralForCausalLM\n",
    "from transformers import AutoTokenizer"
   ]
  },
  {
   "cell_type": "code",
   "execution_count": null,
   "metadata": {},
   "outputs": [],
   "source": [
    "tokenizer = AutoTokenizer.from_pretrained(\"mistralai/Mistral-7B-Instruct-v0.2\")\n",
    "model = MistralForCausalLM.from_pretrained(\n",
    "    \"mistralai/Mistral-7B-Instruct-v0.2\",\n",
    "    device_map=\"auto\",\n",
    "    torch_dtype=torch.bfloat16,\n",
    ")"
   ]
  },
  {
   "cell_type": "code",
   "execution_count": 3,
   "metadata": {},
   "outputs": [],
   "source": [
    "prompt = \"\"\"Answer the following question based on the documents provided.\n",
    "Document 1: Today, the weather is raining.\n",
    "Document 2: Today, the weather is sunny.\n",
    "Question: What is the weather like today?\"\"\"\n",
    "messages = [\n",
    "    {\"role\": \"user\", \"content\": prompt},\n",
    "]\n",
    "\n",
    "chat_prompt = tokenizer.apply_chat_template(\n",
    "    messages, tokenize=False, add_generation_prompt=True\n",
    ")\n",
    "inputs = tokenizer(chat_prompt, add_special_tokens=False, return_tensors=\"pt\").to(\n",
    "    model.device\n",
    ")"
   ]
  },
  {
   "cell_type": "code",
   "execution_count": 4,
   "metadata": {},
   "outputs": [
    {
     "name": "stdout",
     "output_type": "stream",
     "text": [
      "Model output WITHOUT attention scaling:\n",
      "Based on the provided documents, there is a discrepancy between Document 1 and Document 2 regarding the weather today. Document 1 states that it is raining, while Document 2 states that it is sunny. Without additional information or clarification, it is impossible to determine which document is accurate. Therefore, I cannot answer the question definitively based on the given documents.</s>\n"
     ]
    }
   ],
   "source": [
    "outputs = model.generate(\n",
    "    **inputs,\n",
    "    do_sample=False,\n",
    "    max_new_tokens=100,\n",
    "    pad_token_id=tokenizer.eos_token_id,\n",
    ")\n",
    "response = outputs[0][inputs[\"input_ids\"].shape[-1] :]\n",
    "print(\"Model output WITHOUT attention scaling:\")\n",
    "print(tokenizer.decode(response))"
   ]
  },
  {
   "metadata": {},
   "cell_type": "code",
   "outputs": [],
   "execution_count": null,
   "source": [
    "print(len(prompt))\n",
    "print(len(inputs[\"input_ids\"][0]))\n",
    "print(inputs[\"input_ids\"][0])"
   ]
  },
  {
   "cell_type": "code",
   "execution_count": 5,
   "metadata": {},
   "outputs": [
    {
     "name": "stdout",
     "output_type": "stream",
     "text": [
      "Giving the following text a weight of 1:\n",
      "Document 1: Today, the weather is raining.\n",
      "\n",
      "---\n",
      "Giving the following text a weight of 0:\n",
      "Document 2: Today, the weather is sunny.\n",
      "\n",
      "---\n"
     ]
    }
   ],
   "source": [
    "range_weights = [\n",
    "    RangeWeight(15, 28, 1),\n",
    "    RangeWeight(28, 41, 0),\n",
    "]\n",
    "for range_weight in range_weights:\n",
    "    print(f\"Giving the following text a weight of {range_weight.weight}:\")\n",
    "    print(\n",
    "        tokenizer.decode(inputs[\"input_ids\"][0][range_weight.start : range_weight.end])\n",
    "    )\n",
    "    print(\"---\")"
   ]
  },
  {
   "cell_type": "code",
   "execution_count": 6,
   "metadata": {},
   "outputs": [
    {
     "name": "stdout",
     "output_type": "stream",
     "text": [
      "Model output WITH attention scaling:\n",
      "Based on Document 1, the weather is raining today.</s>\n"
     ]
    }
   ],
   "source": [
    "outputs = model.generate(\n",
    "    **inputs,\n",
    "    do_sample=False,\n",
    "    max_new_tokens=100,\n",
    "    pad_token_id=tokenizer.eos_token_id,\n",
    "    range_weights=range_weights,\n",
    ")\n",
    "response = outputs[0][inputs[\"input_ids\"].shape[-1] :]\n",
    "print(\"Model output WITH attention scaling:\")\n",
    "print(tokenizer.decode(response))"
   ]
  }
 ],
 "metadata": {
  "kernelspec": {
   "display_name": "debunc",
   "language": "python",
   "name": "python3"
  },
  "language_info": {
   "codemirror_mode": {
    "name": "ipython",
    "version": 3
   },
   "file_extension": ".py",
   "mimetype": "text/x-python",
   "name": "python",
   "nbconvert_exporter": "python",
   "pygments_lexer": "ipython3",
   "version": "3.10.14"
  }
 },
 "nbformat": 4,
 "nbformat_minor": 2
}
